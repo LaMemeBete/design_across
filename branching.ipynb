{
 "cells": [
  {
   "cell_type": "code",
   "execution_count": 41,
   "metadata": {},
   "outputs": [],
   "source": [
    "import numpy as np\n",
    "import random\n",
    "import math\n",
    "\n",
    "'''g - growth \n",
    "s - switching\n",
    "b - branching\n",
    "r - retracting\n",
    "d - dieing\n",
    "n - new'''\n",
    "\n",
    "'''\n",
    "g + b + s = 1\n",
    "\n",
    "'''\n",
    "\n",
    "g_d_rate = 0.1\n",
    "angle = 0.523599\n",
    "population = ['g', 's', 'b']\n",
    "\n",
    "def find_childless(nodes):\n",
    "    childless_nodes_key = []\n",
    "    for i in range(len(nodes)):\n",
    "        if len(nodes[i]['children']) == 0:\n",
    "            childless_nodes_key.append(i)\n",
    "    return childless_nodes_key\n",
    "\n",
    "def find_node_parent(node_id, nodes):\n",
    "    for i in range(len(nodes)):\n",
    "        if node_id in nodes[i]['children']:\n",
    "            return nodes[i]\n",
    "\n",
    "def check_node_near_food(node, food):\n",
    "    for i in range(len(food)):\n",
    "        if np.linalg.norm(node['cord'] - np.array(food[i]['cord'])) < food[i]['r']:\n",
    "            return [True, food[i]['type']]\n",
    "    return [False]\n",
    "\n",
    "def delete_children_nodes(node_id, nodes):\n",
    "    for i in range(len(nodes)):\n",
    "        if i in nodes[i]['children']:\n",
    "            nodes[i]['children'].remove(i)\n",
    "    return nodes\n",
    "\n",
    "\n",
    "def find_closest_food(node, food):\n",
    "    max_val = float('inf')\n",
    "    for i in range(len(food)):\n",
    "        if np.linalg.norm(node['cord'] - np.array(food[i]['cord'])) < max_val:\n",
    "            closest_food = food[i]\n",
    "    return closest_food\n",
    "\n",
    "def rotation_matrix(axis, theta):\n",
    "    \"\"\"\n",
    "    Return the rotation matrix associated with counterclockwise rotation about\n",
    "    the given axis by theta radians.\n",
    "    \"\"\"\n",
    "    axis = np.asarray(axis)\n",
    "    axis = axis / math.sqrt(np.dot(axis, axis))\n",
    "    a = math.cos(theta / 2.0)\n",
    "    b, c, d = -axis * math.sin(theta / 2.0)\n",
    "    aa, bb, cc, dd = a * a, b * b, c * c, d * d\n",
    "    bc, ad, ac, ab, bd, cd = b * c, a * d, a * c, a * b, b * d, c * d\n",
    "    return np.array([[aa + bb - cc - dd, 2 * (bc + ad), 2 * (bd - ac)],\n",
    "                     [2 * (bc - ad), aa + cc - bb - dd, 2 * (cd + ab)],\n",
    "                     [2 * (bd + ac), 2 * (cd - ab), aa + dd - bb - cc]])\n",
    "\n",
    "def create_new_node(prent_node_id, nodes, food):\n",
    "    closest_food = find_closest_food(nodes[prent_node_id], food)\n",
    "    axis = nodes[prent_node_id]['cord']\n",
    "    v = -axis + closest_food['cord']\n",
    "    v = (v/np.linalg.norm(v))*g_d_rate\n",
    "    v_1 = np.dot(rotation_matrix(axis, angle), v)\n",
    "    v_2 = np.dot(rotation_matrix(axis, -angle), v)\n",
    "    max_key = max(list(nodes.keys()))\n",
    "    nodes[max_key+1] = {\n",
    "        'cord': axis + v_1,\n",
    "        'children': [],\n",
    "        'state': 'g'\n",
    "    }\n",
    "    nodes[max_key+2] = {\n",
    "        'cord': axis + v_2,\n",
    "        'children': [],\n",
    "        'state': 'g'\n",
    "    }\n",
    "    nodes[prent_node_id]['children'].extend([max_key+1, max_key+2])\n",
    "    return nodes\n",
    "\n",
    "\n",
    "def get_csv(t, p_neg, p_pos, p_neu, b_pos, b_neg, b_neu, food):\n",
    "    nodes = {}\n",
    "    nodes[0] = {\n",
    "        'cord': np.array([1, 2, 3]),\n",
    "        'children': [],\n",
    "        'state': 'g'\n",
    "    }\n",
    "    childless_nodes_key = find_childless(nodes)\n",
    "    for j in range(t):\n",
    "        for i in range(len(childless_nodes_key)):\n",
    "            if nodes[i]['state'] == 'r':\n",
    "                parent = find_node_parent(i, nodes)['cord']\n",
    "                if np.linalg.norm(parent - nodes[i]['cord']) == g_d_rate:\n",
    "                    del nodes[i]\n",
    "                    nodes = delete_children_nodes(i, nodes)\n",
    "                else:\n",
    "                    nodes[i]['cord'] = nodes[i]['cord'] - g_d_rate\n",
    "            else:\n",
    "                is_near_food = check_node_near_food(nodes[i], food)\n",
    "                if is_near_food[0] and is_near_food[1]:\n",
    "                    weights = p_pos\n",
    "                elif is_near_food[0] and (is_near_food[1] == False):\n",
    "                    weights = p_neg\n",
    "                else:\n",
    "                    weights = p_neu\n",
    "                new_state = random.choices(population, weights=weights, k=1)\n",
    "                if new_state == 's':\n",
    "                    nodes[i]['state'] = 'r'\n",
    "                else:\n",
    "                    nodes[i]['state'] = new_state\n",
    "                    if new_state == 'g':\n",
    "                        parent = find_node_parent(i, nodes)['cord']\n",
    "                        nodes[i]['cord'] = parent + (parent - (nodes[i]['cord'] + g_d_rate))\n",
    "                    else:\n",
    "                        create_new_node(i, nodes, food)\n",
    "    print(nodes)"
   ]
  },
  {
   "cell_type": "code",
   "execution_count": 42,
   "metadata": {},
   "outputs": [
    {
     "name": "stdout",
     "output_type": "stream",
     "text": [
      "{0: {'cord': array([1, 2, 3]), 'children': [1, 2, 3, 4, 5, 6, 7, 8, 9, 10, 11, 12, 13, 14, 15, 16, 17, 18, 19, 20], 'state': ['g']}, 1: {'cord': array([1.01286933, 2.05273078, 2.91601283]), 'children': [], 'state': 'g'}, 2: {'cord': array([1.07715507, 1.98844504, 2.93744141]), 'children': [], 'state': 'g'}, 3: {'cord': array([1.01286933, 2.05273078, 2.91601283]), 'children': [], 'state': 'g'}, 4: {'cord': array([1.07715507, 1.98844504, 2.93744141]), 'children': [], 'state': 'g'}, 5: {'cord': array([1.01286933, 2.05273078, 2.91601283]), 'children': [], 'state': 'g'}, 6: {'cord': array([1.07715507, 1.98844504, 2.93744141]), 'children': [], 'state': 'g'}, 7: {'cord': array([1.01286933, 2.05273078, 2.91601283]), 'children': [], 'state': 'g'}, 8: {'cord': array([1.07715507, 1.98844504, 2.93744141]), 'children': [], 'state': 'g'}, 9: {'cord': array([1.01286933, 2.05273078, 2.91601283]), 'children': [], 'state': 'g'}, 10: {'cord': array([1.07715507, 1.98844504, 2.93744141]), 'children': [], 'state': 'g'}, 11: {'cord': array([1.01286933, 2.05273078, 2.91601283]), 'children': [], 'state': 'g'}, 12: {'cord': array([1.07715507, 1.98844504, 2.93744141]), 'children': [], 'state': 'g'}, 13: {'cord': array([1.01286933, 2.05273078, 2.91601283]), 'children': [], 'state': 'g'}, 14: {'cord': array([1.07715507, 1.98844504, 2.93744141]), 'children': [], 'state': 'g'}, 15: {'cord': array([1.01286933, 2.05273078, 2.91601283]), 'children': [], 'state': 'g'}, 16: {'cord': array([1.07715507, 1.98844504, 2.93744141]), 'children': [], 'state': 'g'}, 17: {'cord': array([1.01286933, 2.05273078, 2.91601283]), 'children': [], 'state': 'g'}, 18: {'cord': array([1.07715507, 1.98844504, 2.93744141]), 'children': [], 'state': 'g'}, 19: {'cord': array([1.01286933, 2.05273078, 2.91601283]), 'children': [], 'state': 'g'}, 20: {'cord': array([1.07715507, 1.98844504, 2.93744141]), 'children': [], 'state': 'g'}}\n"
     ]
    }
   ],
   "source": [
    "t = 10\n",
    "p_neg = [0.5, 0.45, 0.05]\n",
    "p_pos = [0.5, 0.45, 0.05]\n",
    "p_neu = [0.5, 0.45, 0.05]\n",
    "b_pos = 1\n",
    "b_neg = 1\n",
    "b_neu = 1\n",
    "food = [{'cord':np.array([1,1,0]), 'r':1}, {'cord':np.array([2,2,0]), 'r': 1}, {'cord':np.array([3,3,0]), 'r':1}]\n",
    "get_csv(t, p_neg, p_pos, p_neu, b_pos, b_neg, b_neu, food)"
   ]
  },
  {
   "cell_type": "code",
   "execution_count": 6,
   "metadata": {},
   "outputs": [
    {
     "data": {
      "text/plain": [
       "1"
      ]
     },
     "execution_count": 6,
     "metadata": {},
     "output_type": "execute_result"
    }
   ],
   "source": [
    "len(nodes)"
   ]
  },
  {
   "cell_type": "code",
   "execution_count": 11,
   "metadata": {},
   "outputs": [
    {
     "name": "stdout",
     "output_type": "stream",
     "text": [
      "[2.74911638 4.77180932 1.91629719]\n"
     ]
    }
   ],
   "source": [
    "\n",
    "\n",
    "v = [3, 5, 0]\n",
    "axis = [4, 4, 1]\n",
    "theta = 1.2 \n",
    "\n",
    "print(np.dot(rotation_matrix(axis, theta), v)) \n",
    "# [ 2.74911638  4.77180932  1.91629719]\n"
   ]
  },
  {
   "cell_type": "code",
   "execution_count": 36,
   "metadata": {},
   "outputs": [
    {
     "data": {
      "text/plain": [
       "{1: {'cord': [1, 2, 3], 'children': [], 'state': 'n'}}"
      ]
     },
     "execution_count": 36,
     "metadata": {},
     "output_type": "execute_result"
    }
   ],
   "source": [
    "nodes"
   ]
  },
  {
   "cell_type": "code",
   "execution_count": 40,
   "metadata": {},
   "outputs": [
    {
     "data": {
      "text/plain": [
       "1"
      ]
     },
     "execution_count": 40,
     "metadata": {},
     "output_type": "execute_result"
    }
   ],
   "source": [
    "max(list(nodes.keys()))"
   ]
  },
  {
   "cell_type": "code",
   "execution_count": null,
   "metadata": {},
   "outputs": [],
   "source": []
  }
 ],
 "metadata": {
  "kernelspec": {
   "display_name": "Python 3",
   "language": "python",
   "name": "python3"
  },
  "language_info": {
   "codemirror_mode": {
    "name": "ipython",
    "version": 3
   },
   "file_extension": ".py",
   "mimetype": "text/x-python",
   "name": "python",
   "nbconvert_exporter": "python",
   "pygments_lexer": "ipython3",
   "version": "3.8.3"
  }
 },
 "nbformat": 4,
 "nbformat_minor": 4
}
